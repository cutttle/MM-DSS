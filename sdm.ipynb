{
 "cells": [
  {
   "cell_type": "markdown",
   "id": "f770d0c5",
   "metadata": {
    "toc": true
   },
   "source": [
    "<h1>Table of Contents<span class=\"tocSkip\"></span></h1>\n",
    "<div class=\"toc\"><ul class=\"toc-item\"></ul></div>"
   ]
  },
  {
   "cell_type": "code",
   "execution_count": 1,
   "id": "9922fb59",
   "metadata": {},
   "outputs": [],
   "source": [
    "import numpy as np"
   ]
  },
  {
   "cell_type": "code",
   "execution_count": 2,
   "id": "1c8f94de",
   "metadata": {},
   "outputs": [],
   "source": [
    "# Инициализация уровней\n",
    "lvl1_all_lost = 0\n",
    "lvl2_basic_store = 80\n",
    "lvl3_shop_store = 30\n",
    "lvl4_account = 10000\n",
    "lvl5_motivation = 1"
   ]
  },
  {
   "cell_type": "code",
   "execution_count": 3,
   "id": "7a8be56f",
   "metadata": {},
   "outputs": [],
   "source": [
    "# Инициализация констант и переменных\n",
    "c1 = 50\n",
    "c2 = 35\n",
    "c3 = 30     #dep\n",
    "c4 = 0      #dep\n",
    "c5 = 150\n",
    "c6 = 40\n",
    "c7 = 0      #dep\n",
    "c8 = 0.2\n",
    "c9 = 0      #dep\n",
    "c10 = 100   #dep\n",
    "c11 = 10000\n",
    "c12 = 100\n",
    "c13 = 200\n",
    "c14 = 500\n",
    "c16 = 0.5\n",
    "c17 = 1.5\n",
    "c18 = 30\n",
    "c19 = 0     #dep\n",
    "c20 = 1\n",
    "c21 = 0     #dep\n",
    "c15 = 200 * (1+c19)\n",
    "\n",
    "# Задание шага времени\n",
    "dt = 1\n",
    "time = 0"
   ]
  },
  {
   "cell_type": "code",
   "execution_count": 4,
   "id": "4081cda8",
   "metadata": {},
   "outputs": [],
   "source": [
    "# Иниализация темпов\n",
    "t1 = min([lvl2_basic_store, c3 * c4]) if(lvl4_account >= c5) else 0\n",
    "t3 = int(t1)\n",
    "t7 = (lvl3_shop_store+t3 - 100) if lvl3_shop_store+t3 >100 else 0 # IF(ShopStore+GoodsTransfer >100; ShopStore+GoodsTransfer - 100; 0)\n",
    "t12 = min([c13+c14+c15, lvl4_account])\n",
    "t13 = c5 if t1 > 0 else 0\n",
    "t16 = c19 \n",
    "t17 = c21\n",
    "t15 = lvl5_motivation if (lvl5_motivation>t16 & lvl5_motivation<t17) else c16 if lvl5_motivation<c16 else c17\n",
    "t14 = round(t15 * c18 * (1-1/np.exp(-0.05*(c10-c12))))\n",
    "t18 = c2 * 0.03 * time + c2 * 0.01 * time + np.random.uniform(0,1)\n",
    "t19 = c1 * np.random.uniform(0.7,1.3)\n",
    "t2 = t19 + t18\n",
    "t20 = round(c6 * np.random.uniform(0.75, 1.25))\n",
    "t5 = t20*t2\n",
    "t9 = 1 if lvl4_account > t5 else 0\n",
    "t6 = t20*c7*t9\n",
    "t21 = round(t14 * np.random.uniform(0.7, 1.2)) \n",
    "t4 = (1-c9) * min([t21, lvl3_shop_store])\n",
    "t11 = t4*c10\n",
    "t10 = c8*t11\n",
    "t8 = t4 + lvl3_shop_store"
   ]
  },
  {
   "cell_type": "code",
   "execution_count": 5,
   "id": "e5225d22",
   "metadata": {},
   "outputs": [],
   "source": [
    "params = [c3,c4,c7,c9,c19,c20]\n",
    "frases = [\"Измените объем перевозки или нажмите Enter, чтобы оставить на прежнем уровне: \",\n",
    "         \"Примите решение о транзите товаров на склад магазина или нажмите Enter, чтобы оставить решение прежним: \",\n",
    "         \"Примите решение о покупке товаров или нажмите Enter, чтобы оставить решение прежним: \",\n",
    "         \"Примите решение о продаже товаров или нажмите Enter, чтобы оставить решение прежним: \",\n",
    "         \"Измените зарплату сотрудников или нажмите Enter, чтобы оставить на прежнем уровне: \",\n",
    "         \"Измените уровень похвалы сотрудников или нажмите Enter, чтобы оставить на прежнем уровне: \"]"
   ]
  },
  {
   "cell_type": "code",
   "execution_count": 6,
   "id": "051bc2be",
   "metadata": {},
   "outputs": [],
   "source": [
    "full_time = 3"
   ]
  },
  {
   "cell_type": "code",
   "execution_count": 7,
   "id": "e4dac1c1",
   "metadata": {},
   "outputs": [
    {
     "name": "stdout",
     "output_type": "stream",
     "text": [
      "________________________________\n",
      "Итерация 1\n",
      "________________________________\n",
      "Общие потери продукции: 0\n",
      "Количество продукции на базовом складе: 80\n",
      "Количество продукции на складе магазина: 0\n",
      "Средства на счете: 9100.0\n",
      "Уровень мотивации работников: 1\n",
      "________________________________\n",
      "Введите любое число, если хотите изменить параметры моделирования или нажмите Enter: \n",
      "________________________________\n",
      "________________________________\n",
      "Итерация 2\n",
      "________________________________\n",
      "Общие потери продукции: 0\n",
      "Количество продукции на базовом складе: 80\n",
      "Количество продукции на складе магазина: 0\n",
      "Средства на счете: 8200.0\n",
      "Уровень мотивации работников: 1\n",
      "________________________________\n",
      "Введите любое число, если хотите изменить параметры моделирования или нажмите Enter: \n",
      "________________________________\n",
      "________________________________\n",
      "Итерация 3\n",
      "________________________________\n",
      "Общие потери продукции: 0\n",
      "Количество продукции на базовом складе: 80\n",
      "Количество продукции на складе магазина: 0\n",
      "Средства на счете: 7300.0\n",
      "Уровень мотивации работников: 1\n",
      "________________________________\n",
      "Введите любое число, если хотите изменить параметры моделирования или нажмите Enter: \n",
      "________________________________\n"
     ]
    }
   ],
   "source": [
    "# Моделирование\n",
    "for time in range(full_time):\n",
    "    lvl1_all_lost = lvl1_all_lost + dt*t7\n",
    "    lvl2_basic_store = lvl2_basic_store + dt*t6 - dt*t3\n",
    "    lvl3_shop_store = lvl3_shop_store + dt*t3 - dt*t8 - dt*t7\n",
    "    lvl4_account = lvl4_account + dt*t11 - dt*t12 - dt*t13 - dt*t10\n",
    "    lvl5_motivation = lvl5_motivation + dt*t16 + dt*t17\n",
    "    \n",
    "    t1 = min([lvl2_basic_store, c3 * c4]) if(lvl4_account >= c5) else 0\n",
    "    t3 = int(t1)\n",
    "    t7 = (lvl3_shop_store+t3 - 100) if lvl3_shop_store+t3 >100 else 0 # IF(ShopStore+GoodsTransfer >100; ShopStore+GoodsTransfer - 100; 0)\n",
    "    t12 = min([c13+c14+c15, lvl4_account])\n",
    "    t13 = c5 if t1 > 0 else 0\n",
    "    t16 = c19 \n",
    "    t17 = c21\n",
    "    t15 = lvl5_motivation if (lvl5_motivation>t16 & lvl5_motivation<t17) else c16 if lvl5_motivation<c16 else c17\n",
    "    t14 = round(t15 * c18 * (1-1/np.exp(-0.05*(c10-c12))))\n",
    "    t18 = c2 * 0.03 * time + c2 * 0.01 * time + np.random.uniform(0,1)\n",
    "    t19 = c1 * np.random.uniform(0.7,1.3)\n",
    "    t2 = t19 + t18\n",
    "    t20 = round(c6 * np.random.uniform(0.75, 1.25))\n",
    "    t5 = t20*t2\n",
    "    t9 = 1 if lvl4_account > t5 else 0\n",
    "    t6 = t20*c7*t9\n",
    "    t21 = round(t14 * np.random.uniform(0.7, 1.2)) \n",
    "    t4 = (1-c9) * min([t21, lvl3_shop_store])\n",
    "    t11 = t4*c10\n",
    "    t10 = c8*t11\n",
    "    t8 = t4 + lvl3_shop_store\n",
    "    \n",
    "    print('________________________________')\n",
    "    print('Итерация', time+1)\n",
    "    print('________________________________')\n",
    "    print('Общие потери продукции:', lvl1_all_lost)\n",
    "    print('Количество продукции на базовом складе:', lvl2_basic_store)\n",
    "    print('Количество продукции на складе магазина:', lvl3_shop_store)\n",
    "    print('Средства на счете:', lvl4_account)\n",
    "    print('Уровень мотивации работников:', lvl5_motivation)\n",
    "    print('________________________________')\n",
    "    \n",
    "    # Предложение изменить параметры\n",
    "    dep = input(\"Введите любое число, если хотите изменить параметры моделирования или нажмите Enter: \")\n",
    "    print('________________________________')\n",
    "    if dep:\n",
    "        for i in range(len(params)):\n",
    "            c = input(frases[i])\n",
    "            if c:\n",
    "                params[i] = float(c)"
   ]
  },
  {
   "cell_type": "code",
   "execution_count": null,
   "id": "c2b28a42",
   "metadata": {},
   "outputs": [],
   "source": []
  }
 ],
 "metadata": {
  "kernelspec": {
   "display_name": "Python 3 (ipykernel)",
   "language": "python",
   "name": "python3"
  },
  "language_info": {
   "codemirror_mode": {
    "name": "ipython",
    "version": 3
   },
   "file_extension": ".py",
   "mimetype": "text/x-python",
   "name": "python",
   "nbconvert_exporter": "python",
   "pygments_lexer": "ipython3",
   "version": "3.9.13"
  },
  "toc": {
   "base_numbering": 1,
   "nav_menu": {},
   "number_sections": true,
   "sideBar": true,
   "skip_h1_title": true,
   "title_cell": "Table of Contents",
   "title_sidebar": "Contents",
   "toc_cell": true,
   "toc_position": {},
   "toc_section_display": true,
   "toc_window_display": false
  }
 },
 "nbformat": 4,
 "nbformat_minor": 5
}

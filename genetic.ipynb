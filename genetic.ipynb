{
 "cells": [
  {
   "cell_type": "markdown",
   "id": "c62af462",
   "metadata": {
    "toc": true
   },
   "source": [
    "<h1>Table of Contents<span class=\"tocSkip\"></span></h1>\n",
    "<div class=\"toc\"><ul class=\"toc-item\"></ul></div>"
   ]
  },
  {
   "cell_type": "code",
   "execution_count": 1,
   "id": "4ef6aa2c",
   "metadata": {},
   "outputs": [],
   "source": [
    "import random"
   ]
  },
  {
   "cell_type": "code",
   "execution_count": 2,
   "id": "7ea16d76",
   "metadata": {},
   "outputs": [],
   "source": [
    "# Инициализация популяции\n",
    "def generate_population(population_size):\n",
    "    return [random.uniform(-2, 2) for _ in range(population_size)]\n",
    "\n",
    "# Значение функции из лаб. 3\n",
    "def calculate_fitness(population):\n",
    "    return [2 * x**2 - 1.05 * x**4 + x**6/6 + x + 1 for x in population]\n",
    "\n",
    "# Селекция\n",
    "def selection(population, fitness_scores):\n",
    "    idx1, idx2 = random.sample(range(len(population)), 2)\n",
    "    return population[idx1], population[idx2]\n",
    "\n",
    "# Кроссовер\n",
    "def crossover(parent1, parent2):\n",
    "    if parent1 < parent2:\n",
    "        return random.uniform(parent1, parent2)\n",
    "    else:\n",
    "        return random.uniform(parent2, parent1)\n",
    "\n",
    "# Мутация\n",
    "def mutate(child):\n",
    "    mutation_rate = 0.1\n",
    "    if random.random() < mutation_rate:\n",
    "        mutated_child = child + random.uniform(-1, 1)\n",
    "        return max(-2, min(2, mutated_child))\n",
    "    else:\n",
    "        return child\n",
    "\n",
    "def genetic_algorithm(population_size, num_generations, eps):\n",
    "    population = generate_population(population_size)\n",
    "    min_y = float('inf')\n",
    "    no_improvement_count = 0\n",
    "\n",
    "    for generation in range(num_generations):\n",
    "        fitness_scores = calculate_fitness(population)\n",
    "\n",
    "        best_idx = fitness_scores.index(min(fitness_scores))\n",
    "        current_min_y = fitness_scores[best_idx]\n",
    "        if current_min_y < min_y - eps:\n",
    "            min_y = current_min_y\n",
    "            no_improvement_count = 0\n",
    "        else:\n",
    "            no_improvement_count += 1\n",
    "\n",
    "        if no_improvement_count == 20:\n",
    "            break\n",
    "\n",
    "        new_population = []\n",
    "        for _ in range(population_size // 2):\n",
    "            parent1, parent2 = selection(population, fitness_scores)\n",
    "            child = crossover(parent1, parent2)\n",
    "            child = mutate(child)\n",
    "            new_population.extend([parent1, parent2, child])\n",
    "\n",
    "        population = new_population\n",
    "\n",
    "    best_idx = fitness_scores.index(min(fitness_scores))\n",
    "    min_x = population[best_idx]\n",
    "    min_y = fitness_scores[best_idx]\n",
    "\n",
    "    return min_x, min_y"
   ]
  },
  {
   "cell_type": "code",
   "execution_count": 3,
   "id": "853b6e76",
   "metadata": {},
   "outputs": [
    {
     "name": "stdout",
     "output_type": "stream",
     "text": [
      "x минимума: -1.754450828522919\n",
      "y минимума: 0.31399276654095676\n",
      "Wall time: 12.3 ms\n"
     ]
    }
   ],
   "source": [
    "%%time\n",
    "population_size = 100\n",
    "num_generations = 1000\n",
    "eps = 0.001\n",
    "min_x, min_y = genetic_algorithm(population_size, num_generations, eps)\n",
    "print(\"x минимума:\", min_x)\n",
    "print(\"y минимума:\", min_y)"
   ]
  },
  {
   "cell_type": "code",
   "execution_count": null,
   "id": "229f5e74",
   "metadata": {},
   "outputs": [],
   "source": []
  }
 ],
 "metadata": {
  "kernelspec": {
   "display_name": "Python 3 (ipykernel)",
   "language": "python",
   "name": "python3"
  },
  "language_info": {
   "codemirror_mode": {
    "name": "ipython",
    "version": 3
   },
   "file_extension": ".py",
   "mimetype": "text/x-python",
   "name": "python",
   "nbconvert_exporter": "python",
   "pygments_lexer": "ipython3",
   "version": "3.9.13"
  },
  "toc": {
   "base_numbering": 1,
   "nav_menu": {},
   "number_sections": true,
   "sideBar": true,
   "skip_h1_title": true,
   "title_cell": "Table of Contents",
   "title_sidebar": "Contents",
   "toc_cell": true,
   "toc_position": {},
   "toc_section_display": true,
   "toc_window_display": false
  }
 },
 "nbformat": 4,
 "nbformat_minor": 5
}
